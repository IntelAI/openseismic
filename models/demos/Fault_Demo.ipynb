{
 "cells": [
  {
   "cell_type": "markdown",
   "metadata": {},
   "source": [
    "# Fault Demo\n",
    "\n",
    "In this demo notebook, we will go over how to use the fault model in Open Seismic with the F3 data block (real seismic data). Note that we will be drawing on knowledge that is introduced in the Open Seismic examples. If you have not reviewed those examples, please review them first and come back. \n",
    "\n",
    "## Sections\n",
    "Fault.1 **Using the Default Fault Model**<br/>\n",
    "Fault.2 **Using the Fault Model with Custom Model Script**<br/>\n",
    "Fault.3 **Using the Fault Model with Custom Processor Scripts**\n",
    "\n",
    "## Imports\n",
    "\n",
    "Here are some initial imports and global variables that we need to set up before moving forward. Make sure to run `pip install -r requirements.txt` and build/pull the Docker image for Open Seismic."
   ]
  },
  {
   "cell_type": "code",
   "execution_count": 1,
   "metadata": {},
   "outputs": [],
   "source": [
    "import json\n",
    "from pathlib import PurePath\n",
    "import os\n",
    "import numpy as np\n",
    "import matplotlib.pyplot as plt\n",
    "\n",
    "def list_files(startpath):\n",
    "    for root, dirs, files in os.walk(startpath):\n",
    "        if 'ipynb' in root or 'ipynb' in dirs or 'ipynb' in files:\n",
    "            continue\n",
    "        level = root.replace(startpath, '').count(os.sep)\n",
    "        indent = ' ' * 4 * (level)\n",
    "        print('{}{}/'.format(indent, os.path.basename(root)))\n",
    "        subindent = ' ' * 4 * (level + 1)\n",
    "        for f in files:\n",
    "            print('{}{}'.format(subindent, f))\n",
    "            \n",
    "open_seismic_docker = 'open_seismic'\n",
    "assets_path = PurePath(os.getcwd()).parent.joinpath('fault')\n",
    "os_path = PurePath(os.getcwd()).parent.parent\n",
    "\n",
    "models_path = os_path.joinpath('models')\n",
    "#models_mount = f' -v {models_path}:/core/python/models/'#\n",
    "models_mount = f' -v {models_path}:/core/models/'"
   ]
  },
  {
   "cell_type": "markdown",
   "metadata": {},
   "source": [
    "## Section Fault.1: Using the Default Fault Model\n",
    "\n",
    "In this section, we will go over how to use the default fault model that exists within Open Seismic. \n",
    "\n",
    "### Steps\n",
    "1. Construct the JSON config file for directing Open Seismic to the necessary files. For this demo, we have already constructed the JSON configuration. Run the cell below to display the JSON config file. We will be using coarse cube inference as our inference task of choice because this aligns with our intention of inference over a large piece of data."
   ]
  },
  {
   "cell_type": "code",
   "execution_count": 2,
   "metadata": {},
   "outputs": [
    {
     "name": "stdout",
     "output_type": "stream",
     "text": [
      "{\n",
      "    \"inference_params\": {\n",
      "        \"data\": \"data_mnt/Dutch_F3_data/\",\n",
      "        \"given_model\": \"fseg\",\n",
      "        \"infer_type\": \"coarse_cube_sync\",\n",
      "        \"output\": \"fault_demo_output\"\n",
      "    },\n",
      "    \"visualize_params\": {\n",
      "        \"input\": \"fault_demo_output\",\n",
      "        \"output\": \"visualization\",\n",
      "        \"model_type\": \"fault\",\n",
      "        \"slice_no\": \"100\"\n",
      "    }\n",
      "}\n"
     ]
    }
   ],
   "source": [
    "json_path = assets_path.joinpath('fault_config.json')\n",
    "with open(str(json_path), 'rb') as f:\n",
    "    json_config = json.load(f)\n",
    "print(json.dumps(json_config, indent=4))"
   ]
  },
  {
   "cell_type": "markdown",
   "metadata": {},
   "source": [
    "os_pathAfter running the cell, you might notice that we direct Open Seismic to look at the `data_mnt` directory instead of a common directory that we have recommended. The reason for this is because in this demo, we will be using the F3 data block, which a particularly large file and should not be copied multiple times. Additionally, Docker does not support symlinks on certain operating systems. Therefore, we will use one more mount command to mount the F3 data block into the right directory in Open Seismic's Docker container.\n",
    "\n",
    "2. Construct the command to run Open Seismic."
   ]
  },
  {
   "cell_type": "code",
   "execution_count": 3,
   "metadata": {},
   "outputs": [
    {
     "name": "stdout",
     "output_type": "stream",
     "text": [
      "/home/sdp/ravi/open_seismic/models/demos\n"
     ]
    }
   ],
   "source": [
    "!pwd"
   ]
  },
  {
   "cell_type": "code",
   "execution_count": 4,
   "metadata": {},
   "outputs": [
    {
     "data": {
      "text/plain": [
       "'docker run -v /home/sdp/ravi/open_seismic/models/fault:/core/mnt/ -v /home/sdp/ravi/open_seismic/data:/core/data_mnt/ -v /home/sdp/ravi/open_seismic/models/fault/runs:/core/runs/  -v /home/sdp/ravi/open_seismic/models:/core/models/ open_seismic ./run.sh -c /core/mnt/fault_config.json'"
      ]
     },
     "execution_count": 4,
     "metadata": {},
     "output_type": "execute_result"
    }
   ],
   "source": [
    "local_dir = assets_path\n",
    "run_dir = assets_path.joinpath('runs')\n",
    "data_dir = os_path.joinpath('data', '')\n",
    "os_input = '/core/mnt/fault_config.json'\n",
    "\n",
    "infer_mount = f'-v {local_dir}:/core/mnt/'\n",
    "runs_mount = f'-v {run_dir}:/core/runs/'\n",
    "data_mount = f'-v {data_dir}:/core/data_mnt/'\n",
    "mounts = f'{infer_mount} {data_mount} {runs_mount} {models_mount}'\n",
    "os_cmd = f\"docker run {mounts} {open_seismic_docker} ./run.sh -c {os_input}\"\n",
    "os_cmd"
   ]
  },
  {
   "cell_type": "markdown",
   "metadata": {},
   "source": [
    "3. Run Open Seismic!"
   ]
  },
  {
   "cell_type": "code",
   "execution_count": 5,
   "metadata": {},
   "outputs": [
    {
     "name": "stdout",
     "output_type": "stream",
     "text": [
      "[ARG PARSE] model= data=data_mnt/Dutch_F3_data/ output=runs/February25_07-27-06_AM_2021/fault_demo_output\n",
      "[OUTPUT] Making new folder for output storage.\n",
      "[INFER] Setting up inference...\n",
      "[SWAP] Preprocessor not found. Defaulting to given model preprocess.\n",
      "[SWAP] Postprocessor not found. Defaulting to given model postprocess.\n",
      "[SWAP] Custom bin, xml, and model init not found. Using default model init with given model.\n",
      "[INFER] Using model: fseg_model\n",
      "[LOADER] Loading file: data_mnt/Dutch_F3_data//f3_8bit.segy\n",
      "[INFER] Conducting inference...\n",
      "[INFER] Reshaping inference input...\n",
      "[INFER] Conducting inference on input: f3_8bit.segy...\n",
      "1320it [02:20,  9.40it/s][INFER] Saving output to output path: runs/February25_07-27-06_AM_2021/fault_demo_output/f3_8bit.segy-input/out.npy\n",
      "[INFER] Complete!\n",
      "\n",
      "[VISUALIZATION] Data file runs/February25_07-27-06_AM_2021/fault_demo_output/f3_8bit.segy-input/out.npy -  loaded\n",
      "[VISUALIZATION] Visualization complete! File saved to: runs/February25_07-27-06_AM_2021/visualization/interpretation.png\n"
     ]
    }
   ],
   "source": [
    "! {os_cmd}"
   ]
  },
  {
   "cell_type": "markdown",
   "metadata": {},
   "source": [
    "## Section Fault.2: Using the Fault with Custom Model Script\n",
    "\n",
    "In this section, we will swap out the default model script with our own custom one. You can find the model script in `demos/assets/fault_demo/only_model_script`. \n",
    "\n",
    "### Steps\n",
    "1. Construct the JSON config file for directing Open Seismic to the necessary files. For this demo, we have already constructed the JSON configuration. Run the cell below to display the JSON config file. We will be using coarse cube inference as our inference task of choice because this aligns with our intention of inference over a large piece of data."
   ]
  },
  {
   "cell_type": "code",
   "execution_count": 6,
   "metadata": {},
   "outputs": [
    {
     "name": "stdout",
     "output_type": "stream",
     "text": [
      "{\n",
      "    \"inference_params\": {\n",
      "        \"data\": \"data_mnt/Synthetic_fault_data/seis/\",\n",
      "        \"model\": \"models/fault/only_model_script/\",\n",
      "        \"given_model\": \"fseg\",\n",
      "        \"infer_type\": \"sync\",\n",
      "        \"output\": \"fault_model_demo_output\"\n",
      "    }\n",
      "}\n"
     ]
    }
   ],
   "source": [
    "json_path = assets_path.joinpath('fault_model_config.json')\n",
    "with open(str(json_path), 'rb') as f:\n",
    "    json_config = json.load(f)\n",
    "print(json.dumps(json_config, indent=4))"
   ]
  },
  {
   "cell_type": "markdown",
   "metadata": {},
   "source": [
    "Notice that we have specified the model script in the `model` parameter of the JSON config file, but we have kept the `fseg` option in the `given_model` parameter. In terms of priority, Open Seismic will look at the path specified in `model` first, then will look at the `given_model` files to fill in the required files.\n",
    "\n",
    "2. Construct the command to run Open Seismic."
   ]
  },
  {
   "cell_type": "code",
   "execution_count": 7,
   "metadata": {},
   "outputs": [
    {
     "data": {
      "text/plain": [
       "'docker run -v /home/sdp/ravi/open_seismic/models/fault:/core/mnt/ -v /home/sdp/ravi/open_seismic/data:/core/data_mnt/ -v /home/sdp/ravi/open_seismic/models/fault/runs:/core/runs/  -v /home/sdp/ravi/open_seismic/models:/core/models/ open_seismic ./run.sh -c /core/mnt/fault_model_config.json'"
      ]
     },
     "execution_count": 7,
     "metadata": {},
     "output_type": "execute_result"
    }
   ],
   "source": [
    "local_dir = assets_path\n",
    "run_dir = assets_path.joinpath('runs')\n",
    "data_dir = os_path.joinpath('data', '')\n",
    "os_input = '/core/mnt/fault_model_config.json'\n",
    "\n",
    "infer_mount = f'-v {local_dir}:/core/mnt/'\n",
    "runs_mount = f'-v {run_dir}:/core/runs/'\n",
    "data_mount = f'-v {data_dir}:/core/data_mnt/'\n",
    "mounts = f'{infer_mount} {data_mount} {runs_mount} {models_mount}'\n",
    "os_cmd = f\"docker run {mounts} {open_seismic_docker} ./run.sh -c {os_input}\"\n",
    "os_cmd"
   ]
  },
  {
   "cell_type": "markdown",
   "metadata": {},
   "source": [
    "3. Run Open Seismic!"
   ]
  },
  {
   "cell_type": "code",
   "execution_count": 8,
   "metadata": {},
   "outputs": [
    {
     "name": "stdout",
     "output_type": "stream",
     "text": [
      "[ARG PARSE] model=models/fault/only_model_script/ data=data_mnt/Synthetic_fault_data/seis/ output=runs/February25_07-29-38_AM_2021/fault_model_demo_output\n",
      "[OUTPUT] Making new folder for output storage.\n",
      "[SWAP] Preprocessor not found. Defaulting to given model preprocess.\n",
      "[SWAP] Postprocessor not found. Defaulting to given model postprocess.\n",
      "[SWAP] Found custom model script.\n",
      "[SWAP] Custom bin or xml not found. Using given model xml and bin with custom model init.\n",
      "[INFER] Using model: fseg_model\n",
      "[INFER] Loading datafile names for inference...\n",
      "[LOADER] Loading file: data_mnt/Synthetic_fault_data/seis//1.dat\n",
      "[LOADER] Loading file: data_mnt/Synthetic_fault_data/seis//2.dat\n",
      "[LOADER] Loading file: data_mnt/Synthetic_fault_data/seis//3.dat\n",
      "[LOADER] Loading file: data_mnt/Synthetic_fault_data/seis//0.dat\n",
      "[LOADER] Loading file: data_mnt/Synthetic_fault_data/seis//4.dat\n",
      "[INFER] Conducting inference...\n",
      "100%|##########| 5/5 [00:00<00:00,  6.76it/s][INFER] Complete!\n",
      "\n"
     ]
    }
   ],
   "source": [
    "! {os_cmd}"
   ]
  },
  {
   "cell_type": "markdown",
   "metadata": {},
   "source": [
    "## Section Fault.3: Using the Fault with Custom Processor Scripts\n",
    "\n",
    "In this section, we will swap out the default processor scripts with our own custom ones. You can find the model script in `demos/assets/fault_demo/only_processor_scripts`. \n",
    "\n",
    "### Steps\n",
    "1. Construct the JSON config file for directing Open Seismic to the necessary files. For this demo, we have already constructed the JSON configuration. Run the cell below to display the JSON config file. We will be using coarse cube inference as our inference task of choice because this aligns with our intention of inference over a large piece of data."
   ]
  },
  {
   "cell_type": "code",
   "execution_count": 9,
   "metadata": {},
   "outputs": [
    {
     "name": "stdout",
     "output_type": "stream",
     "text": [
      "{\n",
      "    \"inference_params\": {\n",
      "        \"data\": \"data_mnt/Synthetic_fault_data/seis/\",\n",
      "        \"model\": \"models/fault/only_processor_scripts/\",\n",
      "        \"given_model\": \"fseg\",\n",
      "        \"infer_type\": \"sync\",\n",
      "        \"output\": \"fault_proc_demo_output\"\n",
      "    }\n",
      "}\n"
     ]
    }
   ],
   "source": [
    "json_path = assets_path.joinpath('fault_proc_config.json')\n",
    "with open(str(json_path), 'rb') as f:\n",
    "    json_config = json.load(f)\n",
    "print(json.dumps(json_config, indent=4))"
   ]
  },
  {
   "cell_type": "markdown",
   "metadata": {},
   "source": [
    "Notice that we have specified the model script in the `model` parameter of the JSON config file, but we have kept the `fseg` option in the `given_model` parameter. In terms of priority, Open Seismic will look at the path specified in `model` first, then will look at the `given_model` files to fill in the required files.\n",
    "\n",
    "2. Construct the command to run Open Seismic."
   ]
  },
  {
   "cell_type": "code",
   "execution_count": 10,
   "metadata": {},
   "outputs": [
    {
     "data": {
      "text/plain": [
       "'docker run -v /home/sdp/ravi/open_seismic/models/fault:/core/mnt/ -v /home/sdp/ravi/open_seismic/data:/core/data_mnt/ -v /home/sdp/ravi/open_seismic/models/fault/runs:/core/runs/  -v /home/sdp/ravi/open_seismic/models:/core/models/ open_seismic ./run.sh -c /core/mnt/fault_proc_config.json'"
      ]
     },
     "execution_count": 10,
     "metadata": {},
     "output_type": "execute_result"
    }
   ],
   "source": [
    "local_dir = assets_path\n",
    "run_dir = assets_path.joinpath('runs')\n",
    "data_dir = os_path.joinpath('data', '')\n",
    "os_input = '/core/mnt/fault_proc_config.json'\n",
    "\n",
    "infer_mount = f'-v {local_dir}:/core/mnt/'\n",
    "runs_mount = f'-v {run_dir}:/core/runs/'\n",
    "data_mount = f'-v {data_dir}:/core/data_mnt/'\n",
    "mounts = f'{infer_mount} {data_mount} {runs_mount} {models_mount}'\n",
    "os_cmd = f\"docker run {mounts} {open_seismic_docker} ./run.sh -c {os_input}\"\n",
    "os_cmd"
   ]
  },
  {
   "cell_type": "markdown",
   "metadata": {},
   "source": [
    "3. Run Open Seismic!"
   ]
  },
  {
   "cell_type": "code",
   "execution_count": 11,
   "metadata": {},
   "outputs": [
    {
     "name": "stdout",
     "output_type": "stream",
     "text": [
      "[ARG PARSE] model=models/fault/only_processor_scripts/ data=data_mnt/Synthetic_fault_data/seis/ output=runs/February25_07-29-42_AM_2021/fault_proc_demo_output\n",
      "[OUTPUT] Making new folder for output storage.\n",
      "[SWAP] Found custom preporcessing script.\n",
      "[SWAP] Found custom postporcessing script.\n",
      "[SWAP] Custom bin, xml, and model init not found. Using default model init with given model.\n",
      "[INFER] Using model: fseg_model\n",
      "[INFER] Loading datafile names for inference...\n",
      "[LOADER] Loading file: data_mnt/Synthetic_fault_data/seis//1.dat\n",
      "[LOADER] Loading file: data_mnt/Synthetic_fault_data/seis//2.dat\n",
      "[LOADER] Loading file: data_mnt/Synthetic_fault_data/seis//3.dat\n",
      "[LOADER] Loading file: data_mnt/Synthetic_fault_data/seis//0.dat\n",
      "[LOADER] Loading file: data_mnt/Synthetic_fault_data/seis//4.dat\n",
      "[INFER] Conducting inference...\n",
      "100%|##########| 5/5 [00:00<00:00,  6.91it/s][INFER] Complete!\n",
      "\n"
     ]
    }
   ],
   "source": [
    "! {os_cmd}"
   ]
  },
  {
   "cell_type": "markdown",
   "metadata": {},
   "source": [
    "Congratulations! You now know how to use the fault model in Open Seismic.\n",
    "\n",
    "## Summary\n",
    "In this demo, you learned about:\n",
    "1. Using the default fault model with your data\n",
    "2. Using the fault model with your data and model script\n",
    "3. Using the fault model with your data and processor scripts\n",
    "\n",
    "We haven't talked about combining custom model and processor scripts together, but this can be done as well by storing the model and processor scripts in one mount directory. If you would like to learn more about the other models, please go to their respective folders and run their demos."
   ]
  }
 ],
 "metadata": {
  "kernelspec": {
   "display_name": "Python 3",
   "language": "python",
   "name": "python3"
  },
  "language_info": {
   "codemirror_mode": {
    "name": "ipython",
    "version": 3
   },
   "file_extension": ".py",
   "mimetype": "text/x-python",
   "name": "python",
   "nbconvert_exporter": "python",
   "pygments_lexer": "ipython3",
   "version": "3.6.12"
  }
 },
 "nbformat": 4,
 "nbformat_minor": 4
}
