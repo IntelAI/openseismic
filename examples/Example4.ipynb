{
 "cells": [
  {
   "cell_type": "markdown",
   "metadata": {},
   "source": [
    "# Example 4: Open Seismic Usage Template\n",
    "\n",
    "In this example, we will walk you through how to use your files. This example should be treated as a template for you to get up and running with Open Seismic.\n",
    "\n",
    "### Sections\n",
    "4.1 **Defining the JSON Configuration**<br/>\n",
    "4.2 **Organization of Files**<br/>\n",
    "4.3 **Using Open Seismic's Docker Image** <br/>\n",
    "\n",
    "## Imports\n",
    "\n",
    "Make sure to run `pip install -r requirements.txt` and build/pull the docker image for Open Seismic.\n",
    "\n",
    "**TODO:**\n",
    "1. Make a copy of `template_dir` in `examples/assets/`. Put your files in the appropriate locations and edit the config.json to reflect correct namings.\n",
    "2. Edit the `local_dir` variable and the `name_of_config` variable in the next cell with the path to the edited `template_dir` directory and the name of the configuration JSON file, respectively.\n",
    "3. Run the rest of the notebook."
   ]
  },
  {
   "cell_type": "code",
   "execution_count": 1,
   "metadata": {},
   "outputs": [],
   "source": [
    "import os\n",
    "from pathlib import PurePath\n",
    "\n",
    "# PurePath is used so notebook is OS independent.\n",
    "# You can specify a path such as path/to/vol by doing PurePath('path', 'to', 'vol').\n",
    "# local_dir must be an absolute path.\n",
    "# We have provided a way to get the absolute path, but this might not meet your needs.\n",
    "\n",
    "cwd_path = PurePath(os.getcwd())\n",
    "local_dir = cwd_path / PurePath('assets', 'template_dir_copy') # TODO\n",
    "name_of_config = 'template_config.json' # TODO"
   ]
  },
  {
   "cell_type": "markdown",
   "metadata": {},
   "source": [
    "Here are some handy imports."
   ]
  },
  {
   "cell_type": "code",
   "execution_count": 2,
   "metadata": {},
   "outputs": [],
   "source": [
    "import json\n",
    "import os\n",
    "import numpy as np\n",
    "import matplotlib.pyplot as plt\n",
    "\n",
    "def list_files(startpath):\n",
    "    for root, dirs, files in os.walk(startpath):\n",
    "        level = root.replace(startpath, '').count(os.sep)\n",
    "        indent = ' ' * 4 * (level)\n",
    "        print('{}{}/'.format(indent, os.path.basename(root)))\n",
    "        subindent = ' ' * 4 * (level + 1)\n",
    "        for f in files:\n",
    "            print('{}{}'.format(subindent, f))\n",
    "\n",
    "open_seismic_docker = 'open_seismic'\n",
    "os_path = PurePath(os.getcwd()).parent\n",
    "models_path = os_path.joinpath('models')\n",
    "models_mount = f' -v {models_path}:/core/python/models/'"
   ]
  },
  {
   "cell_type": "markdown",
   "metadata": {},
   "source": [
    "## Section 4.1: Defining the JSON Configuration\n",
    "Here is a peek at your JSON configuration. Make sure this lines up with your expectations."
   ]
  },
  {
   "cell_type": "code",
   "execution_count": 3,
   "metadata": {},
   "outputs": [
    {
     "name": "stdout",
     "output_type": "stream",
     "text": [
      "{\n",
      "    \"pre_model_optimizer_params\": {\n",
      "        \"script\": \"path/to/conversion/script.sh\",\n",
      "        \"script_param_1\": \"...\",\n",
      "        \"script_param_2\": \"...\"\n",
      "    },\n",
      "    \"model_optimizer_params\": {\n",
      "        \"input_model\": \"path/to/model.ext\",\n",
      "        \"input_shape\": \"[...]\",\n",
      "        \"data_type\": \"FP32\",\n",
      "        \"output_dir\": \"output_dir/\",\n",
      "        \"model_name\": \"name-of-model\"\n",
      "    },\n",
      "    \"inference_params\": {\n",
      "        \"data\": \"path/to/data/\",\n",
      "        \"model\": \"path/to/model_files/and/model_scripts/\",\n",
      "        \"infer_type\": \"<(a)sync, cube_(a)sync, section_(a)sync>\",\n",
      "        \"benchmarking\": \"\",\n",
      "        \"output\": \"path/to/output_dir/\",\n",
      "        \"streams\": \"num_streams\",\n",
      "        \"slice\": \"<full, inline, crossline, timeslice>\",\n",
      "        \"subsampl\": \"stride_of_cubed_inference\",\n",
      "        \"slice_no\": \"slice_number\",\n",
      "        \"im_size\": \"side_length_of_cube_for_cubed_inference\",\n",
      "        \"return_to_fullsize\": \"<True, False>\"\n",
      "    },\n",
      "    \"visualize_params\": {\n",
      "        \"input\": \"path/to/output_dir/\",\n",
      "        \"output\": \"vis_folder/\",\n",
      "        \"model_type\": \"<facies, salt, fault>\"\n",
      "    }\n",
      "}\n"
     ]
    }
   ],
   "source": [
    "json_path = local_dir.joinpath(name_of_config)\n",
    "with open(str(json_path), 'rb') as f:\n",
    "    json_config = json.load(f)\n",
    "print(json.dumps(json_config, indent=4))"
   ]
  },
  {
   "cell_type": "code",
   "execution_count": 4,
   "metadata": {},
   "outputs": [
    {
     "data": {
      "text/plain": [
       "PurePosixPath('/home/akhorkin/Repositories/open_seismic/examples/assets/template_dir_copy/template_config.json')"
      ]
     },
     "execution_count": 4,
     "metadata": {},
     "output_type": "execute_result"
    }
   ],
   "source": [
    "json_path"
   ]
  },
  {
   "cell_type": "markdown",
   "metadata": {},
   "source": [
    "## Section 4.2: Organization of Files\n",
    "Here is the recommended file structure:\n",
    "```\n",
    "my_local_dir/\n",
    "    config.json\n",
    "    my_data_folder\\\n",
    "        ...\n",
    "        data_file_i\n",
    "        ...\n",
    "    my_optimization_folder\\\n",
    "        converter_script.sh\n",
    "        converter_script_helper.py\n",
    "    my_scripts_folder\\\n",
    "        model.py\n",
    "        preprocessor.py\n",
    "        postprocessor.py\n",
    "        modelname.xml\n",
    "        modelname.bin\n",
    "        modelname.mapping\n",
    "```\n",
    "\n",
    "Here is a peek at your `local_dir` file structure. Make sure that they follow the same structure."
   ]
  },
  {
   "cell_type": "code",
   "execution_count": 5,
   "metadata": {},
   "outputs": [
    {
     "name": "stdout",
     "output_type": "stream",
     "text": [
      "template_dir_copy/\n",
      "    template_config.json\n",
      "    example_config.json\n",
      "    runs/\n",
      "    optimization/\n",
      "        salt.onnx\n",
      "        salt.pt\n",
      "        texture_net.py\n",
      "        pytorch2onnx.py\n",
      "        pytorch2onnx.sh\n",
      "    scripts/\n",
      "        postprocessor.py\n",
      "        preprocessor.py\n",
      "        salt.bin\n",
      "        model.py\n",
      "        salt.mapping\n",
      "        salt.xml\n",
      "    data/\n",
      "        delete_me.txt\n"
     ]
    }
   ],
   "source": [
    "list_files(str(local_dir))"
   ]
  },
  {
   "cell_type": "markdown",
   "metadata": {},
   "source": [
    "## Section 4.3: Using Open Seismic's Docker Image\n",
    "Run the cells below to use Open Seismic!"
   ]
  },
  {
   "cell_type": "code",
   "execution_count": 6,
   "metadata": {},
   "outputs": [
    {
     "data": {
      "text/plain": [
       "'docker run -v /home/akhorkin/Repositories/open_seismic/examples/assets/template_dir_copy:/core/mnt/ -v /home/akhorkin/Repositories/open_seismic/examples/assets/template_dir_copy/runs:/core/runs  -v /home/akhorkin/Repositories/open_seismic/models:/core/python/models/ open_seismic ./run.sh -c /core/mnt/template_config.json'"
      ]
     },
     "execution_count": 6,
     "metadata": {},
     "output_type": "execute_result"
    }
   ],
   "source": [
    "run_dir = local_dir.joinpath('runs')\n",
    "os_input = f'/core/mnt/{name_of_config}'\n",
    "mounts = f'-v {local_dir}:/core/mnt/ -v {run_dir}:/core/runs {models_mount}'\n",
    "\n",
    "os_cmd = f\"docker run {mounts} {open_seismic_docker} ./run.sh -c {os_input}\"\n",
    "os_cmd"
   ]
  },
  {
   "cell_type": "code",
   "execution_count": null,
   "metadata": {},
   "outputs": [],
   "source": [
    "! {os_cmd}"
   ]
  },
  {
   "cell_type": "markdown",
   "metadata": {},
   "source": [
    "Congratulations! You have completed the example series."
   ]
  },
  {
   "cell_type": "code",
   "execution_count": null,
   "metadata": {},
   "outputs": [],
   "source": []
  }
 ],
 "metadata": {
  "kernelspec": {
   "display_name": "Python 3",
   "language": "python",
   "name": "python3"
  },
  "language_info": {
   "codemirror_mode": {
    "name": "ipython",
    "version": 3
   },
   "file_extension": ".py",
   "mimetype": "text/x-python",
   "name": "python",
   "nbconvert_exporter": "python",
   "pygments_lexer": "ipython3",
   "version": "3.6.9"
  }
 },
 "nbformat": 4,
 "nbformat_minor": 4
}
