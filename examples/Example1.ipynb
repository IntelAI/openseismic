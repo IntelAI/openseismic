{
 "cells": [
  {
   "cell_type": "markdown",
   "metadata": {},
   "source": [
    "# Example 1: Converting Models to OpenVINO IR\n",
    "\n",
    "In this example, you will learn about converting models to an OpenVINO Immediate Representation (IR). This representation will allow OpenVINO to conduct inference optimally on Intel hardware.\n",
    "\n",
    "### Sections\n",
    "1.1 **Convert Keras Models (.hdf5):** We will convert a fault segmentation Keras model to a frozen graph.<br/>\n",
    "1.2 **Convert Tensorflow Frozen Graphs (.pb):** Using our newly converted frozen graph, we will use the model optimizer to convert from frozen graph to IR. <br/>\n",
    "1.3 **Convert ONNX Models (.onnx):** We will convert a salt identification Pytorch model to its ONNX equivalent and then convert to IR.<br/>\n",
    "\n",
    "### Imports\n",
    "\n",
    "Below are some important imports and global variables that we will need to set up before moving forward. Make sure to run `pip install -r requirements.txt` and build/pull the docker image for Open Seismic."
   ]
  },
  {
   "cell_type": "code",
   "execution_count": 1,
   "metadata": {},
   "outputs": [
    {
     "name": "stderr",
     "output_type": "stream",
     "text": [
      "Using TensorFlow backend.\n"
     ]
    }
   ],
   "source": [
    "import os\n",
    "from tensorflow.python.util import deprecation\n",
    "deprecation._PRINT_DEPRECATION_WARNINGS = False\n",
    "import warnings\n",
    "\n",
    "import numpy as np\n",
    "import tensorflow as tf\n",
    "tf.compat.v1.logging.set_verbosity(tf.compat.v1.logging.ERROR)\n",
    "\n",
    "from tensorflow.python.framework import graph_util\n",
    "from tensorflow.python.framework import graph_io\n",
    "from keras.layers import *\n",
    "from keras.models import load_model\n",
    "import tensorflow.keras.backend as K\n",
    "from assets.example1_assets.unet3 import cross_entropy_balanced\n",
    "import shutil, sys\n",
    "\n",
    "import torch\n",
    "from assets.example1_assets.texture_net import TextureNet\n",
    "\n",
    "from pathlib import PurePath\n",
    "assets_path = PurePath('assets', 'example1_assets')\n",
    "open_seismic_docker = 'open_seismic'"
   ]
  },
  {
   "cell_type": "markdown",
   "metadata": {},
   "source": [
    "## Section 1.1: Convert Keras Models (.hdf5)\n",
    "\n",
    "OpenVINO supports popular deep learning frameworks, and [here](https://docs.openvinotoolkit.org/latest/openvino_docs_MO_DG_Deep_Learning_Model_Optimizer_DevGuide.html) is a list of the frameworks that it supports. For Keras models, we will first convert to a Tensorflow frozen graph representation. In section 1.2, we will convert the Tensorflow frozen graph representation into OpenVINO's Immediate Representation (IR). Below, we will walk through how to convert a Keras model to a frozen graph.\n",
    "\n",
    "### Steps\n",
    "1. Using the Keras library, load the model into memory by specifying the path to the Keras model as well as custom objects that you defined in your network."
   ]
  },
  {
   "cell_type": "code",
   "execution_count": 2,
   "metadata": {},
   "outputs": [],
   "source": [
    "path_to_keras = str(assets_path.joinpath('fseg-60.hdf5'))\n",
    "model = load_model(path_to_keras, custom_objects={'cross_entropy_balanced': cross_entropy_balanced})\n",
    "frozen_model_path = str(assets_path)\n",
    "frozen_model_name = 'fseg-60.pb'"
   ]
  },
  {
   "cell_type": "markdown",
   "metadata": {},
   "source": [
    "2. Get the node names that exist within the Keras model layers"
   ]
  },
  {
   "cell_type": "code",
   "execution_count": 3,
   "metadata": {},
   "outputs": [],
   "source": [
    "tf.get_logger().setLevel('INFO')\n",
    "K.set_image_data_format('channels_last')\n",
    "\n",
    "output_node_names = [node.op.name for node in model.outputs]"
   ]
  },
  {
   "cell_type": "markdown",
   "metadata": {},
   "source": [
    "3. Instantiate a Keras session and use the graph_util function from Tensorflow's framework module to create a constant graph."
   ]
  },
  {
   "cell_type": "code",
   "execution_count": 4,
   "metadata": {},
   "outputs": [
    {
     "name": "stdout",
     "output_type": "stream",
     "text": [
      "INFO:tensorflow:Froze 30 variables.\n",
      "INFO:tensorflow:Converted 30 variables to const ops.\n"
     ]
    }
   ],
   "source": [
    "sess = K.get_session()\n",
    "constant_graph = graph_util.convert_variables_to_constants(sess,\n",
    "                                                           sess.graph.as_graph_def(),\n",
    "                                                           output_node_names)"
   ]
  },
  {
   "cell_type": "markdown",
   "metadata": {},
   "source": [
    "4. Finally, write the constant graph to disk with name `frozen_model_name` at `frozen_model_path`."
   ]
  },
  {
   "cell_type": "code",
   "execution_count": 5,
   "metadata": {},
   "outputs": [
    {
     "data": {
      "text/plain": [
       "'assets/example1_assets/fseg-60.pb'"
      ]
     },
     "execution_count": 5,
     "metadata": {},
     "output_type": "execute_result"
    }
   ],
   "source": [
    "graph_io.write_graph(constant_graph, frozen_model_path, frozen_model_name, as_text=False)"
   ]
  },
  {
   "cell_type": "markdown",
   "metadata": {},
   "source": [
    "In four easy steps, we were able to convert a Keras model into a frozen graph."
   ]
  },
  {
   "cell_type": "markdown",
   "metadata": {},
   "source": [
    "## Section 1.2: Convert Tensorflow Frozen Graphs (.pb)\n",
    "\n",
    "In the previous section, we walked through how to convert a Keras model into its frozen graph equivalent. This was a necessary step because we can now convert our frozen graph into an OpenVINO IR. Below, we will walk through how to convert a frozen graph model to OpenVINO IR using the Open Seismic Docker image.\n",
    "\n",
    "### Steps\n",
    "1. Familiarize yourself with the Model Optimizer options. For a detailed explanation, go [here](https://docs.openvinotoolkit.org/latest/openvino_docs_MO_DG_prepare_model_Config_Model_Optimizer.html)."
   ]
  },
  {
   "cell_type": "code",
   "execution_count": 6,
   "metadata": {
    "scrolled": true
   },
   "outputs": [
    {
     "name": "stdout",
     "output_type": "stream",
     "text": [
      "usage: mo.py [options]\r\n",
      "\r\n",
      "optional arguments:\r\n",
      "  -h, --help            show this help message and exit\r\n",
      "  --framework {tf,caffe,mxnet,kaldi,onnx}\r\n",
      "                        Name of the framework used to train the input model.\r\n",
      "\r\n",
      "Framework-agnostic parameters:\r\n",
      "  --input_model INPUT_MODEL, -w INPUT_MODEL, -m INPUT_MODEL\r\n",
      "                        Tensorflow*: a file with a pre-trained model (binary\r\n",
      "                        or text .pb file after freezing). Caffe*: a model\r\n",
      "                        proto file with model weights\r\n",
      "  --model_name MODEL_NAME, -n MODEL_NAME\r\n",
      "                        Model_name parameter passed to the final create_ir\r\n",
      "                        transform. This parameter is used to name a network in\r\n",
      "                        a generated IR and output .xml/.bin files.\r\n",
      "  --output_dir OUTPUT_DIR, -o OUTPUT_DIR\r\n",
      "                        Directory that stores the generated IR. By default, it\r\n",
      "                        is the directory from where the Model Optimizer is\r\n",
      "                        launched.\r\n",
      "  --input_shape INPUT_SHAPE\r\n",
      "                        Input shape(s) that should be fed to an input node(s)\r\n",
      "                        of the model. Shape is defined as a comma-separated\r\n",
      "                        list of integer numbers enclosed in parentheses or\r\n",
      "                        square brackets, for example [1,3,227,227] or\r\n",
      "                        (1,227,227,3), where the order of dimensions depends\r\n",
      "                        on the framework input layout of the model. For\r\n",
      "                        example, [N,C,H,W] is used for Caffe* models and\r\n",
      "                        [N,H,W,C] for TensorFlow* models. Model Optimizer\r\n",
      "                        performs necessary transformations to convert the\r\n",
      "                        shape to the layout required by Inference Engine\r\n",
      "                        (N,C,H,W). The shape should not contain undefined\r\n",
      "                        dimensions (? or -1) and should fit the dimensions\r\n",
      "                        defined in the input operation of the graph. If there\r\n",
      "                        are multiple inputs in the model, --input_shape should\r\n",
      "                        contain definition of shape for each input separated\r\n",
      "                        by a comma, for example: [1,3,227,227],[2,4] for a\r\n",
      "                        model with two inputs with 4D and 2D shapes.\r\n",
      "                        Alternatively, specify shapes with the --input option.\r\n",
      "  --scale SCALE, -s SCALE\r\n",
      "                        All input values coming from original network inputs\r\n",
      "                        will be divided by this value. When a list of inputs\r\n",
      "                        is overridden by the --input parameter, this scale is\r\n",
      "                        not applied for any input that does not match with the\r\n",
      "                        original input of the model.\r\n",
      "  --reverse_input_channels\r\n",
      "                        Switch the input channels order from RGB to BGR (or\r\n",
      "                        vice versa). Applied to original inputs of the model\r\n",
      "                        if and only if a number of channels equals 3. Applied\r\n",
      "                        after application of --mean_values and --scale_values\r\n",
      "                        options, so numbers in --mean_values and\r\n",
      "                        --scale_values go in the order of channels used in the\r\n",
      "                        original model.\r\n",
      "  --log_level {CRITICAL,ERROR,WARN,WARNING,INFO,DEBUG,NOTSET}\r\n",
      "                        Logger level\r\n",
      "  --input INPUT         Quoted list of comma-separated input nodes names with\r\n",
      "                        shapes, data types, and values for freezing. The shape\r\n",
      "                        and value are specified as space-separated lists. The\r\n",
      "                        data type of input node is specified in braces and can\r\n",
      "                        have one of the values: f64 (float64), f32 (float32),\r\n",
      "                        f16 (float16), i64 (int64), i32 (int32), u8 (uint8),\r\n",
      "                        boolean. For example, use the following format to set\r\n",
      "                        input port 0 of the node `node_name1` with the shape\r\n",
      "                        [3 4] as an input node and freeze output port 1 of the\r\n",
      "                        node `node_name2` with the value [20 15] of the int32\r\n",
      "                        type and shape [2]: \"0:node_name1[3\r\n",
      "                        4],node_name2:1[2]{i32}->[20 15]\".\r\n",
      "  --output OUTPUT       The name of the output operation of the model. For\r\n",
      "                        TensorFlow*, do not add :0 to this name.\r\n",
      "  --mean_values MEAN_VALUES, -ms MEAN_VALUES\r\n",
      "                        Mean values to be used for the input image per\r\n",
      "                        channel. Values to be provided in the (R,G,B) or\r\n",
      "                        [R,G,B] format. Can be defined for desired input of\r\n",
      "                        the model, for example: \"--mean_values\r\n",
      "                        data[255,255,255],info[255,255,255]\". The exact\r\n",
      "                        meaning and order of channels depend on how the\r\n",
      "                        original model was trained.\r\n",
      "  --scale_values SCALE_VALUES\r\n",
      "                        Scale values to be used for the input image per\r\n",
      "                        channel. Values are provided in the (R,G,B) or [R,G,B]\r\n",
      "                        format. Can be defined for desired input of the model,\r\n",
      "                        for example: \"--scale_values\r\n",
      "                        data[255,255,255],info[255,255,255]\". The exact\r\n",
      "                        meaning and order of channels depend on how the\r\n",
      "                        original model was trained.\r\n",
      "  --data_type {FP16,FP32,half,float}\r\n",
      "                        Data type for all intermediate tensors and weights. If\r\n",
      "                        original model is in FP32 and --data_type=FP16 is\r\n",
      "                        specified, all model weights and biases are quantized\r\n",
      "                        to FP16.\r\n",
      "  --disable_fusing      Turn off fusing of linear operations to Convolution\r\n",
      "  --disable_resnet_optimization\r\n",
      "                        Turn off resnet optimization\r\n",
      "  --finegrain_fusing FINEGRAIN_FUSING\r\n",
      "                        Regex for layers/operations that won't be fused.\r\n",
      "                        Example: --finegrain_fusing Convolution1,.*Scale.*\r\n",
      "  --disable_gfusing     Turn off fusing of grouped convolutions\r\n",
      "  --enable_concat_optimization\r\n",
      "                        Turn on Concat optimization.\r\n",
      "  --move_to_preprocess  Move mean values to IR preprocess section\r\n",
      "  --extensions EXTENSIONS\r\n",
      "                        Directory or a comma separated list of directories\r\n",
      "                        with extensions. To disable all extensions including\r\n",
      "                        those that are placed at the default location, pass an\r\n",
      "                        empty string.\r\n",
      "  --batch BATCH, -b BATCH\r\n",
      "                        Input batch size\r\n",
      "  --version             Version of Model Optimizer\r\n",
      "  --silent              Prevent any output messages except those that\r\n",
      "                        correspond to log level equals ERROR, that can be set\r\n",
      "                        with the following option: --log_level. By default,\r\n",
      "                        log level is already ERROR.\r\n",
      "  --freeze_placeholder_with_value FREEZE_PLACEHOLDER_WITH_VALUE\r\n",
      "                        Replaces input layer with constant node with provided\r\n",
      "                        value, for example: \"node_name->True\". It will be\r\n",
      "                        DEPRECATED in future releases. Use --input option to\r\n",
      "                        specify a value for freezing.\r\n",
      "  --generate_deprecated_IR_V7\r\n",
      "                        Force to generate deprecated IR V7 with layers from\r\n",
      "                        old IR specification.\r\n",
      "  --static_shape        Enables IR generation for fixed input shape (folding\r\n",
      "                        `ShapeOf` operations and shape-calculating sub-graphs\r\n",
      "                        to `Constant`). Changing model input shape using the\r\n",
      "                        Inference Engine API in runtime may fail for such an\r\n",
      "                        IR.\r\n",
      "  --keep_shape_ops      The option is ignored. Expected behavior is enabled by\r\n",
      "                        default.\r\n",
      "  --disable_weights_compression\r\n",
      "                        Disable compression and store weights with original\r\n",
      "                        precision.\r\n",
      "  --progress            Enable model conversion progress display.\r\n",
      "  --stream_output       Switch model conversion progress display to a\r\n",
      "                        multiline mode.\r\n",
      "  --transformations_config TRANSFORMATIONS_CONFIG\r\n",
      "                        Use the configuration file with transformations\r\n",
      "                        description.\r\n",
      "\r\n",
      "TensorFlow*-specific parameters:\r\n",
      "  --input_model_is_text\r\n",
      "                        TensorFlow*: treat the input model file as a text\r\n",
      "                        protobuf format. If not specified, the Model Optimizer\r\n",
      "                        treats it as a binary file by default.\r\n",
      "  --input_checkpoint INPUT_CHECKPOINT\r\n",
      "                        TensorFlow*: variables file to load.\r\n",
      "  --input_meta_graph INPUT_META_GRAPH\r\n",
      "                        Tensorflow*: a file with a meta-graph of the model\r\n",
      "                        before freezing\r\n",
      "  --saved_model_dir SAVED_MODEL_DIR\r\n",
      "                        TensorFlow*: directory with a model in SavedModel\r\n",
      "                        formatof TensorFlow 1.x or 2.x version.\r\n",
      "  --saved_model_tags SAVED_MODEL_TAGS\r\n",
      "                        Group of tag(s) of the MetaGraphDef to load, in string\r\n",
      "                        format, separated by ','. For tag-set contains\r\n",
      "                        multiple tags, all tags must be passed in.\r\n",
      "  --tensorflow_custom_operations_config_update TENSORFLOW_CUSTOM_OPERATIONS_CONFIG_UPDATE\r\n",
      "                        TensorFlow*: update the configuration file with node\r\n",
      "                        name patterns with input/output nodes information.\r\n",
      "  --tensorflow_use_custom_operations_config TENSORFLOW_USE_CUSTOM_OPERATIONS_CONFIG\r\n",
      "                        Use the configuration file with custom operation\r\n",
      "                        description.\r\n",
      "  --tensorflow_object_detection_api_pipeline_config TENSORFLOW_OBJECT_DETECTION_API_PIPELINE_CONFIG\r\n",
      "                        TensorFlow*: path to the pipeline configuration file\r\n",
      "                        used to generate model created with help of Object\r\n",
      "                        Detection API.\r\n",
      "  --tensorboard_logdir TENSORBOARD_LOGDIR\r\n",
      "                        TensorFlow*: dump the input graph to a given directory\r\n",
      "                        that should be used with TensorBoard.\r\n",
      "  --tensorflow_custom_layer_libraries TENSORFLOW_CUSTOM_LAYER_LIBRARIES\r\n",
      "                        TensorFlow*: comma separated list of shared libraries\r\n",
      "                        with TensorFlow* custom operations implementation.\r\n",
      "  --disable_nhwc_to_nchw\r\n",
      "                        Disables default translation from NHWC to NCHW\r\n",
      "\r\n",
      "Caffe*-specific parameters:\r\n",
      "  --input_proto INPUT_PROTO, -d INPUT_PROTO\r\n",
      "                        Deploy-ready prototxt file that contains a topology\r\n",
      "                        structure and layer attributes\r\n",
      "  --caffe_parser_path CAFFE_PARSER_PATH\r\n",
      "                        Path to Python Caffe* parser generated from\r\n",
      "                        caffe.proto\r\n",
      "  -k K                  Path to CustomLayersMapping.xml to register custom\r\n",
      "                        layers\r\n",
      "  --mean_file MEAN_FILE, -mf MEAN_FILE\r\n",
      "                        Mean image to be used for the input. Should be a\r\n",
      "                        binaryproto file\r\n",
      "  --mean_file_offsets MEAN_FILE_OFFSETS, -mo MEAN_FILE_OFFSETS\r\n",
      "                        Mean image offsets to be used for the input\r\n",
      "                        binaryproto file. When the mean image is bigger than\r\n",
      "                        the expected input, it is cropped. By default, centers\r\n",
      "                        of the input image and the mean image are the same and\r\n",
      "                        the mean image is cropped by dimensions of the input\r\n",
      "                        image. The format to pass this option is the\r\n",
      "                        following: \"-mo (x,y)\". In this case, the mean file is\r\n",
      "                        cropped by dimensions of the input image with offset\r\n",
      "                        (x,y) from the upper left corner of the mean image\r\n",
      "  --disable_omitting_optional\r\n",
      "                        Disable omitting optional attributes to be used for\r\n",
      "                        custom layers. Use this option if you want to transfer\r\n",
      "                        all attributes of a custom layer to IR. Default\r\n",
      "                        behavior is to transfer the attributes with default\r\n",
      "                        values and the attributes defined by the user to IR.\r\n",
      "  --enable_flattening_nested_params\r\n",
      "                        Enable flattening optional params to be used for\r\n",
      "                        custom layers. Use this option if you want to transfer\r\n",
      "                        attributes of a custom layer to IR with flattened\r\n",
      "                        nested parameters. Default behavior is to transfer the\r\n",
      "                        attributes without flattening nested parameters.\r\n",
      "\r\n",
      "Mxnet-specific parameters:\r\n",
      "  --input_symbol INPUT_SYMBOL\r\n",
      "                        Symbol file (for example, model-symbol.json) that\r\n",
      "                        contains a topology structure and layer attributes\r\n",
      "  --nd_prefix_name ND_PREFIX_NAME\r\n",
      "                        Prefix name for args.nd and argx.nd files.\r\n",
      "  --pretrained_model_name PRETRAINED_MODEL_NAME\r\n",
      "                        Name of a pretrained MXNet model without extension and\r\n",
      "                        epoch number. This model will be merged with args.nd\r\n",
      "                        and argx.nd files\r\n",
      "  --save_params_from_nd\r\n",
      "                        Enable saving built parameters file from .nd files\r\n",
      "  --legacy_mxnet_model  Enable MXNet loader to make a model compatible with\r\n",
      "                        the latest MXNet version. Use only if your model was\r\n",
      "                        trained with MXNet version lower than 1.0.0\r\n",
      "  --enable_ssd_gluoncv  Enable pattern matchers replacers for converting\r\n",
      "                        gluoncv ssd topologies.\r\n",
      "\r\n",
      "Kaldi-specific parameters:\r\n",
      "  --counts COUNTS       Path to the counts file\r\n",
      "  --remove_output_softmax\r\n",
      "                        Removes the SoftMax layer that is the output layer\r\n",
      "  --remove_memory       Removes the Memory layer and use additional inputs\r\n",
      "                        outputs instead\r\n"
     ]
    }
   ],
   "source": [
    "model_optimizer_cmd = f\"\"\"\n",
    "docker run {open_seismic_docker} /bin/bash executables/mo.sh -h\n",
    "\"\"\"\n",
    "! {model_optimizer_cmd}"
   ]
  },
  {
   "cell_type": "markdown",
   "metadata": {},
   "source": [
    "2. Specify the appropriate configurations."
   ]
  },
  {
   "cell_type": "code",
   "execution_count": 7,
   "metadata": {},
   "outputs": [
    {
     "data": {
      "text/plain": [
       "[None, None, None, None, 1]"
      ]
     },
     "execution_count": 7,
     "metadata": {},
     "output_type": "execute_result"
    }
   ],
   "source": [
    "# Model expects a 5-dimensional input\n",
    "model.input.get_shape().as_list()"
   ]
  },
  {
   "cell_type": "code",
   "execution_count": 8,
   "metadata": {},
   "outputs": [
    {
     "data": {
      "text/plain": [
       "'docker run -v /home/akhorkin/Repositories/open_seismic/examples/assets/example1_assets:/mnt_vol open_seismic /bin/bash executables/mo.sh --input_model /mnt_vol/fseg-60.pb             --input_shape [1,128,128,128,1]             --data_type FP32             --output_dir /mnt_vol/IR_fault/              --model_name fseg-60'"
      ]
     },
     "execution_count": 8,
     "metadata": {},
     "output_type": "execute_result"
    }
   ],
   "source": [
    "phys_mnt_vol = str(PurePath(os.getcwd()).joinpath(assets_path))\n",
    "docker_mnt_vol = '/mnt_vol'\n",
    "docker_frozen_model_path = f'{docker_mnt_vol}/fseg-60.pb'\n",
    "input_shape = str([1] + [128] * 3 + [1]).replace(\" \", \"\")\n",
    "data_type = 'FP32'\n",
    "docker_output_model_path = f'{docker_mnt_vol}/IR_fault/'\n",
    "ov_model_name = 'fseg-60'\n",
    "configs = f\"--input_model {docker_frozen_model_path} \\\n",
    "            --input_shape {input_shape} \\\n",
    "            --data_type {data_type} \\\n",
    "            --output_dir {docker_output_model_path}  \\\n",
    "            --model_name {ov_model_name}\"\n",
    "\n",
    "model_optimizer_cmd = f\"docker run -v {phys_mnt_vol}:{docker_mnt_vol} {open_seismic_docker} /bin/bash executables/mo.sh {configs}\"\n",
    "model_optimizer_cmd # Checking the command to see if this works"
   ]
  },
  {
   "cell_type": "markdown",
   "metadata": {},
   "source": [
    "3. Run the model optimizer on Open Seismic!"
   ]
  },
  {
   "cell_type": "code",
   "execution_count": 9,
   "metadata": {},
   "outputs": [
    {
     "name": "stdout",
     "output_type": "stream",
     "text": [
      "Model Optimizer arguments:\n",
      "Common parameters:\n",
      "\t- Path to the Input Model: \t/mnt_vol/fseg-60.pb\n",
      "\t- Path for generated IR: \t/mnt_vol/IR_fault/\n",
      "\t- IR output name: \tfseg-60\n",
      "\t- Log level: \tERROR\n",
      "\t- Batch: \tNot specified, inherited from the model\n",
      "\t- Input layers: \tNot specified, inherited from the model\n",
      "\t- Output layers: \tNot specified, inherited from the model\n",
      "\t- Input shapes: \t[1,128,128,128,1]\n",
      "\t- Mean values: \tNot specified\n",
      "\t- Scale values: \tNot specified\n",
      "\t- Scale factor: \tNot specified\n",
      "\t- Precision of IR: \tFP32\n",
      "\t- Enable fusing: \tTrue\n",
      "\t- Enable grouped convolutions fusing: \tTrue\n",
      "\t- Move mean values to preprocess section: \tNone\n",
      "\t- Reverse input channels: \tFalse\n",
      "TensorFlow specific parameters:\n",
      "\t- Input model in text protobuf format: \tFalse\n",
      "\t- Path to model dump for TensorBoard: \tNone\n",
      "\t- List of shared libraries with TensorFlow custom layers implementation: \tNone\n",
      "\t- Update the configuration file with input/output node names: \tNone\n",
      "\t- Use configuration file used to generate the model with Object Detection API: \tNone\n",
      "\t- Use the config file: \tNone\n",
      "Model Optimizer version: \t2021.1.0-1237-bece22ac675-releases/2021/1\n",
      "\n",
      "[ SUCCESS ] Generated IR version 10 model.\n",
      "[ SUCCESS ] XML file: /mnt_vol/IR_fault/fseg-60.xml\n",
      "[ SUCCESS ] BIN file: /mnt_vol/IR_fault/fseg-60.bin\n",
      "[ SUCCESS ] Total execution time: 8.22 seconds. \n",
      "[ SUCCESS ] Memory consumed: 259 MB. \n",
      "It's been a while, check for a new version of Intel(R) Distribution of OpenVINO(TM) toolkit here https://software.intel.com/content/www/us/en/develop/tools/openvino-toolkit/choose-download.html?cid=other&source=Prod&campid=ww_2020_bu_IOTG_OpenVINO-2021-1&content=upg_pro&medium=organic_uid_agjj or on the GitHub*\n"
     ]
    }
   ],
   "source": [
    "! {model_optimizer_cmd}"
   ]
  },
  {
   "cell_type": "markdown",
   "metadata": {},
   "source": [
    "Congratulations! You have successfully converted a Keras model to a Tensorflow frozen graph and optimized it to an OpenVINO IR! In the next section, we will cover how to do the same thing but with a Pytorch model and ONNX."
   ]
  },
  {
   "cell_type": "markdown",
   "metadata": {},
   "source": [
    "## Section 1.3: Convert ONNX Models (.onnx)\n",
    "\n",
    "In this section, we will convert a Pytorch model to its ONNX equivalent. Then, we will use the model optimizer to get an OpenVINO IR. Below, we will walk through the steps.\n",
    "\n",
    "### Steps\n",
    "1. Convert the Pytorch model to its ONNX equivalent. The weights are provided for ease-of-use."
   ]
  },
  {
   "cell_type": "code",
   "execution_count": 10,
   "metadata": {},
   "outputs": [],
   "source": [
    "pt_filename = str(assets_path.joinpath('salt.pt'))\n",
    "device = torch.device('cpu')\n",
    "network = TextureNet(n_classes=2)\n",
    "network.load_state_dict(torch.load(pt_filename, map_location=device))\n",
    "network.eval()\n",
    "\n",
    "output_filename = str(assets_path.joinpath('salt.onnx'))\n",
    "input_var = torch.randn(1, 1, 65, 65, 65)\n",
    "torch.onnx.export(network, input_var, output_filename, export_params=True)"
   ]
  },
  {
   "cell_type": "markdown",
   "metadata": {},
   "source": [
    "2. Specify the appropriate configurations for the model optimizer"
   ]
  },
  {
   "cell_type": "code",
   "execution_count": 11,
   "metadata": {},
   "outputs": [
    {
     "data": {
      "text/plain": [
       "'docker run -v /home/akhorkin/Repositories/open_seismic/examples/assets/example1_assets:/mnt_vol open_seismic /bin/bash executables/mo.sh --input_model /mnt_vol/salt.onnx             --input_shape [1,1,65,65,65]             --data_type FP32             --output_dir /mnt_vol/IR_salt/              --model_name salt'"
      ]
     },
     "execution_count": 11,
     "metadata": {},
     "output_type": "execute_result"
    }
   ],
   "source": [
    "phys_mnt_vol = str(PurePath(os.getcwd()).joinpath(assets_path))\n",
    "docker_mnt_vol = '/mnt_vol'\n",
    "docker_onnx_model_path = f'{docker_mnt_vol}/salt.onnx'\n",
    "input_shape = str([1] * 2 + [65] * 3).replace(\" \", \"\")\n",
    "data_type = 'FP32'\n",
    "docker_output_model_path = f'{docker_mnt_vol}/IR_salt/'\n",
    "ov_model_name = 'salt'\n",
    "configs = f\"--input_model {docker_onnx_model_path} \\\n",
    "            --input_shape {input_shape} \\\n",
    "            --data_type {data_type} \\\n",
    "            --output_dir {docker_output_model_path}  \\\n",
    "            --model_name {ov_model_name}\"\n",
    "\n",
    "model_optimizer_cmd = f\"docker run -v {phys_mnt_vol}:{docker_mnt_vol} {open_seismic_docker} /bin/bash executables/mo.sh {configs}\"\n",
    "model_optimizer_cmd # Checking the command to see if this works"
   ]
  },
  {
   "cell_type": "markdown",
   "metadata": {},
   "source": [
    "3. Run the model optimizer in Open Seismic!"
   ]
  },
  {
   "cell_type": "code",
   "execution_count": 12,
   "metadata": {},
   "outputs": [
    {
     "name": "stdout",
     "output_type": "stream",
     "text": [
      "Model Optimizer arguments:\n",
      "Common parameters:\n",
      "\t- Path to the Input Model: \t/mnt_vol/salt.onnx\n",
      "\t- Path for generated IR: \t/mnt_vol/IR_salt/\n",
      "\t- IR output name: \tsalt\n",
      "\t- Log level: \tERROR\n",
      "\t- Batch: \tNot specified, inherited from the model\n",
      "\t- Input layers: \tNot specified, inherited from the model\n",
      "\t- Output layers: \tNot specified, inherited from the model\n",
      "\t- Input shapes: \t[1,1,65,65,65]\n",
      "\t- Mean values: \tNot specified\n",
      "\t- Scale values: \tNot specified\n",
      "\t- Scale factor: \tNot specified\n",
      "\t- Precision of IR: \tFP32\n",
      "\t- Enable fusing: \tTrue\n",
      "\t- Enable grouped convolutions fusing: \tTrue\n",
      "\t- Move mean values to preprocess section: \tNone\n",
      "\t- Reverse input channels: \tFalse\n",
      "ONNX specific parameters:\n",
      "Model Optimizer version: \t2021.1.0-1237-bece22ac675-releases/2021/1\n",
      "\n",
      "[ SUCCESS ] Generated IR version 10 model.\n",
      "[ SUCCESS ] XML file: /mnt_vol/IR_salt/salt.xml\n",
      "[ SUCCESS ] BIN file: /mnt_vol/IR_salt/salt.bin\n",
      "[ SUCCESS ] Total execution time: 2.87 seconds. \n",
      "[ SUCCESS ] Memory consumed: 235 MB. \n",
      "It's been a while, check for a new version of Intel(R) Distribution of OpenVINO(TM) toolkit here https://software.intel.com/content/www/us/en/develop/tools/openvino-toolkit/choose-download.html?cid=other&source=Prod&campid=ww_2020_bu_IOTG_OpenVINO-2021-1&content=upg_pro&medium=organic_uid_agjj or on the GitHub*\n"
     ]
    }
   ],
   "source": [
    "! {model_optimizer_cmd}"
   ]
  },
  {
   "cell_type": "markdown",
   "metadata": {},
   "source": [
    "Congratulations! You have successfully converted a Pytorch model to an ONNX model and optimized it to an OpenVINO IR!"
   ]
  },
  {
   "cell_type": "markdown",
   "metadata": {},
   "source": [
    "## Summary\n",
    "\n",
    "In this example, we learned:\n",
    "1. How to convert Keras models to Tensorflow frozen graphs\n",
    "2. How to optimize Tensorflow frozen graphs to IR\n",
    "3. How to convert Pytorch models to ONNX and optimize to IR"
   ]
  },
  {
   "cell_type": "code",
   "execution_count": null,
   "metadata": {},
   "outputs": [],
   "source": []
  }
 ],
 "metadata": {
  "kernelspec": {
   "display_name": "Python 3",
   "language": "python",
   "name": "python3"
  },
  "language_info": {
   "codemirror_mode": {
    "name": "ipython",
    "version": 3
   },
   "file_extension": ".py",
   "mimetype": "text/x-python",
   "name": "python",
   "nbconvert_exporter": "python",
   "pygments_lexer": "ipython3",
   "version": "3.6.9"
  }
 },
 "nbformat": 4,
 "nbformat_minor": 4
}
